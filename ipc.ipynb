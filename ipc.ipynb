{
 "cells": [
  {
   "cell_type": "code",
   "execution_count": 1,
   "id": "acde3523",
   "metadata": {},
   "outputs": [],
   "source": [
    "import pandas as pd\n",
    "import numpy as np\n",
    "import matplotlib.pyplot as plt\n",
    "from scipy.stats import norm"
   ]
  },
  {
   "cell_type": "code",
   "execution_count": 2,
   "id": "8c054a5b",
   "metadata": {},
   "outputs": [],
   "source": [
    "data = pd.read_csv('results.csv')"
   ]
  },
  {
   "cell_type": "code",
   "execution_count": 3,
   "id": "06240dc4",
   "metadata": {},
   "outputs": [],
   "source": [
    "def calculate_statistics(group):\n",
    "    stats = {}\n",
    "    stats['mean'] = group['duration'].mean()\n",
    "    stats['median'] = group['duration'].median()\n",
    "    stats['std_dev'] = group['duration'].std()\n",
    "    stats['variance'] = group['duration'].var()\n",
    "\n",
    "    n = len(group)\n",
    "    if n > 1:\n",
    "        se = stats['std_dev'] / np.sqrt(n)\n",
    "        ci = norm.interval(0.95, loc=stats['mean'], scale=se)\n",
    "        stats['conf_interval'] = ci\n",
    "    else:\n",
    "        stats['conf_interval'] = (stats['mean'], stats['mean'])\n",
    "    return pd.Series(stats)"
   ]
  },
  {
   "cell_type": "code",
   "execution_count": null,
   "id": "b58b2324",
   "metadata": {},
   "outputs": [],
   "source": [
    "task_stats = data.groupby('task').apply(calculate_statistics)\n",
    "print(task_stats)"
   ]
  },
  {
   "cell_type": "code",
   "execution_count": null,
   "id": "a0cd97c8",
   "metadata": {},
   "outputs": [],
   "source": [
    "overall_stats = calculate_statistics(data)\n",
    "print(overall_stats)"
   ]
  },
  {
   "cell_type": "code",
   "execution_count": null,
   "id": "d6a17419",
   "metadata": {},
   "outputs": [],
   "source": [
    "fig, ax = plt.subplots(figsize=(10, 6))\n",
    "ax.bar(task_stats.index, task_stats['mean'], color='green', label='Mean Duration')\n",
    "for i, (mean, ci) in enumerate(zip(task_stats['mean'], task_stats['conf_interval'])):\n",
    "    ax.errorbar(i + 1, mean, yerr=[[mean - ci[0]], [ci[1] - mean]], fmt='o', color='black', capsize=5)\n",
    "ax.set_title('Task Performance Analysis')\n",
    "ax.set_xlabel('Task')\n",
    "ax.set_ylabel('Duration (seconds)')\n",
    "ax.set_xticks(task_stats.index)\n",
    "ax.legend()\n",
    "\n",
    "plt.tight_layout()\n",
    "plt.show()"
   ]
  },
  {
   "cell_type": "code",
   "execution_count": 7,
   "id": "fc6e9088",
   "metadata": {},
   "outputs": [],
   "source": [
    "unique_tasks = data['task'].unique()"
   ]
  },
  {
   "cell_type": "code",
   "execution_count": null,
   "id": "f58294c8",
   "metadata": {
    "scrolled": false
   },
   "outputs": [],
   "source": [
    "for task in unique_tasks:\n",
    "    task_data = data[data['task'] == task]\n",
    "\n",
    "    mean_duration = task_data['duration'].mean()\n",
    "    std_dev = task_data['duration'].std()\n",
    "    n = len(task_data)\n",
    "\n",
    "    if n > 1:\n",
    "        se = std_dev / np.sqrt(n)\n",
    "        ci = norm.interval(0.95, loc=mean_duration, scale=se)\n",
    "    else:\n",
    "        ci = (mean_duration, mean_duration)\n",
    "\n",
    "    plt.figure(figsize=(12, 6), dpi=100)\n",
    "    bars = plt.bar(range(len(task_data)), task_data['duration'], color='lightblue', alpha=0.85)\n",
    "    plt.axhline(mean_duration, color='blue', linestyle='-', linewidth=2, label='Mean')\n",
    "    plt.axhline(ci[0], color='red', linestyle='--', linewidth=1, label='95% CI')\n",
    "    plt.axhline(ci[1], color='red', linestyle='--', linewidth=1)\n",
    "    for i, bar in enumerate(bars):\n",
    "        height = bar.get_height()\n",
    "        plt.text(bar.get_x() + bar.get_width()/2., height,f'{height:.2f}s',ha='center', va='bottom')\n",
    "\n",
    "    plt.title(f'Task {task} - User Performance Duration\\nMean: {mean_duration:.2f}s (95% CI: {ci[0]:.2f}s - {ci[1]:.2f}s)',pad=20)\n",
    "    plt.xlabel('Participant Number')\n",
    "    plt.ylabel('Duration (seconds)')\n",
    "    plt.xticks(range(len(task_data)), task_data['participant'], rotation=45, ha='right')\n",
    "    plt.grid(True, axis='y', linestyle='--', alpha=0.3)\n",
    "    plt.legend(loc='upper right')\n",
    "    plt.tight_layout()\n",
    "    plt.show()"
   ]
  }
 ],
 "metadata": {
  "kernelspec": {
   "display_name": "Python 3",
   "language": "python",
   "name": "python3"
  },
  "language_info": {
   "codemirror_mode": {
    "name": "ipython",
    "version": 3
   },
   "file_extension": ".py",
   "mimetype": "text/x-python",
   "name": "python",
   "nbconvert_exporter": "python",
   "pygments_lexer": "ipython3",
   "version": "3.12.3"
  }
 },
 "nbformat": 4,
 "nbformat_minor": 5
}
